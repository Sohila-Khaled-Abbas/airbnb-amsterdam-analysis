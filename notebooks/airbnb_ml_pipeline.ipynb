{
 "cells": [
  {
   "cell_type": "markdown",
   "id": "f514f310",
   "metadata": {},
   "source": [
    "# 1. Setup Your PySpark Notebook"
   ]
  },
  {
   "cell_type": "code",
   "execution_count": null,
   "id": "a73538aa",
   "metadata": {},
   "outputs": [],
   "source": [
    "import os\n",
    "print(os.path.exists(\"/home/jovyan/work/jars/postgresql-42.7.7.jar\"))\n",
    "\n",
    "from pyspark.sql import SparkSession\n",
    "!spark-submit --jars /home/jovyan/work/jars/postgresql-42.7.7.jar pyspark_modeling.py\n",
    "\n",
    "!pip install findspark\n",
    "\n",
    "import findspark\n",
    "findspark.init()\n",
    "\n",
    "from pyspark.sql import SparkSession\n",
    "\n",
    "spark = SparkSession.builder \\\n",
    "    .appName(\"AirbnbMLPipeline\") \\\n",
    "    .config(\"spark.jars\", \"/home/jovyan/work/jars/postgresql-42.7.7.jar\") \\\n",
    "    .config(\"spark.driver.extraClassPath\", \"/home/jovyan/work/jars/postgresql-42.7.7.jar\") \\\n",
    "    .getOrCreate()\n",
    "\n",
    "# Now you can use spark to load data from PostgreSQL\n",
    "df = spark.read \\\n",
    "    .format(\"jdbc\") \\\n",
    "    .option(\"url\", \"jdbc:postgresql://postgres:5432/airbnb_amsterdam\") \\\n",
    "    .option(\"dbtable\", \"airbnb_cleaned_listings\") \\\n",
    "    .option(\"user\", \"airbnb\") \\\n",
    "    .option(\"password\", \"airbnb123\") \\\n",
    "    .option(\"driver\", \"org.postgresql.Driver\") \\\n",
    "    .load()\n",
    "\n",
    "df.printSchema()\n",
    "df.select(\"price\", \"availability_365\", \"number_of_reviews\").show(5)"
   ]
  },
  {
   "cell_type": "markdown",
   "id": "1f059b9e",
   "metadata": {},
   "source": [
    "# 2. Data Preparation"
   ]
  },
  {
   "cell_type": "code",
   "execution_count": null,
   "id": "a55ea149",
   "metadata": {},
   "outputs": [],
   "source": [
    "from pyspark.sql.functions import col\n",
    "\n",
    "# Drop rows with nulls in relevant columns\n",
    "df_ml = df.select(\n",
    "    col(\"price\").cast(\"double\"),\n",
    "    col(\"availability_365\").cast(\"double\"),\n",
    "    col(\"number_of_reviews\").cast(\"double\"),\n",
    "    col(\"minimum_nights\").cast(\"double\")\n",
    ").dropna()"
   ]
  },
  {
   "cell_type": "markdown",
   "id": "6ca65b69",
   "metadata": {},
   "source": [
    "# 3. Feature Engineering"
   ]
  },
  {
   "cell_type": "code",
   "execution_count": null,
   "id": "9698a12d",
   "metadata": {},
   "outputs": [],
   "source": [
    "from pyspark.ml.feature import VectorAssembler, StandardScaler\n",
    "\n",
    "assembler = VectorAssembler(\n",
    "    inputCols=[\"availability_365\", \"number_of_reviews\", \"minimum_nights\"],\n",
    "    outputCol=\"unscaled_features\"\n",
    ")\n",
    "df_assembled = assembler.transform(df_ml)\n",
    "\n",
    "scaler = StandardScaler(inputCol=\"unscaled_features\", outputCol=\"features\", withStd=True, withMean=False)\n",
    "df_scaled = scaler.fit(df_assembled).transform(df_assembled)"
   ]
  },
  {
   "cell_type": "markdown",
   "id": "4a7c785e",
   "metadata": {},
   "source": [
    "# 4. Clustering Model: KMeans"
   ]
  },
  {
   "cell_type": "code",
   "execution_count": null,
   "id": "c4522d1f",
   "metadata": {},
   "outputs": [],
   "source": [
    "from pyspark.ml.clustering import KMeans\n",
    "\n",
    "kmeans = KMeans(k=4, seed=1, featuresCol=\"features\", predictionCol=\"cluster\")\n",
    "model = kmeans.fit(df_scaled)\n",
    "df_clustered = model.transform(df_scaled)\n",
    "\n",
    "df_clustered.select(\"price\", \"cluster\").groupBy(\"cluster\").avg(\"price\").show()"
   ]
  },
  {
   "cell_type": "markdown",
   "id": "2f82e6b1",
   "metadata": {},
   "source": [
    "# 5. Predictive Model: Linear Regression for Price"
   ]
  },
  {
   "cell_type": "code",
   "execution_count": null,
   "id": "4a5a5d4e",
   "metadata": {},
   "outputs": [],
   "source": [
    "from pyspark.ml.regression import LinearRegression\n",
    "from pyspark.ml.evaluation import RegressionEvaluator\n",
    "\n",
    "# Split into train/test\n",
    "train_data, test_data = df_scaled.randomSplit([0.8, 0.2], seed=42)\n",
    "\n",
    "lr = LinearRegression(featuresCol=\"features\", labelCol=\"price\")\n",
    "lr_model = lr.fit(train_data)\n",
    "\n",
    "predictions = lr_model.transform(test_data)\n",
    "evaluator = RegressionEvaluator(predictionCol=\"prediction\", labelCol=\"price\", metricName=\"rmse\")\n",
    "\n",
    "rmse = evaluator.evaluate(predictions)\n",
    "print(f\"RMSE: {rmse:.2f}\")"
   ]
  },
  {
   "cell_type": "markdown",
   "id": "846f2657",
   "metadata": {},
   "source": [
    "# 6. Save Models"
   ]
  },
  {
   "cell_type": "code",
   "execution_count": null,
   "id": "3d333a12",
   "metadata": {},
   "outputs": [],
   "source": [
    "model.save(\"/home/jovyan/work/ml/kmeans_model\")\n",
    "lr_model.save(\"/home/jovyan/work/ml/linear_regression_model\")"
   ]
  },
  {
   "cell_type": "markdown",
   "id": "1b225f88",
   "metadata": {},
   "source": [
    "# Export Final Datasets"
   ]
  },
  {
   "cell_type": "markdown",
   "id": "1bdafff5",
   "metadata": {},
   "source": [
    "## 1. Clustered Listings (from KMeans)"
   ]
  },
  {
   "cell_type": "code",
   "execution_count": null,
   "id": "b66a85f3",
   "metadata": {},
   "outputs": [],
   "source": [
    "df_clustered.toPandas().to_csv(\"/home/jovyan/work/data/clustered_listings.csv\", index=False)"
   ]
  },
  {
   "cell_type": "markdown",
   "id": "e0ee353f",
   "metadata": {},
   "source": [
    "## 2. Regression Predictions (Price Prediction)"
   ]
  },
  {
   "cell_type": "code",
   "execution_count": null,
   "id": "cafe4d8e",
   "metadata": {},
   "outputs": [],
   "source": [
    "predictions.select(\"price\", \"prediction\", \"availability_365\", \"number_of_reviews\", \"minimum_nights\") \\\n",
    "    .toPandas().to_csv(\"/home/jovyan/work/data/ml_predictions.csv\", index=False)"
   ]
  }
 ],
 "metadata": {
  "kernelspec": {
   "display_name": "myenvironment",
   "language": "python",
   "name": "python3"
  },
  "language_info": {
   "codemirror_mode": {
    "name": "ipython",
    "version": 3
   },
   "file_extension": ".py",
   "mimetype": "text/x-python",
   "name": "python",
   "nbconvert_exporter": "python",
   "pygments_lexer": "ipython3",
   "version": "3.13.1"
  }
 },
 "nbformat": 4,
 "nbformat_minor": 5
}
